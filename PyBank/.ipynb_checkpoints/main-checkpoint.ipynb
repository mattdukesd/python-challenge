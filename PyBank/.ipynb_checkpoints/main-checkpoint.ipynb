{
 "cells": [
  {
   "cell_type": "code",
   "execution_count": 450,
   "metadata": {
    "collapsed": true
   },
   "outputs": [],
   "source": [
    "import csv"
   ]
  },
  {
   "cell_type": "code",
   "execution_count": 451,
   "metadata": {
    "collapsed": true
   },
   "outputs": [],
   "source": [
    "filePath = \"Data\\Budget_Data_1.csv\""
   ]
  },
  {
   "cell_type": "code",
   "execution_count": 452,
   "metadata": {
    "collapsed": true
   },
   "outputs": [],
   "source": [
    "count = 0\n",
    "revenue = 0"
   ]
  },
  {
   "cell_type": "code",
   "execution_count": 453,
   "metadata": {},
   "outputs": [],
   "source": [
    "with open(filePath, newline=\"\") as csvfile:\n",
    "    csvreader = csv.reader(csvfile, delimiter=\",\")\n",
    "    next(csvreader)\n",
    "    for row in csvreader:\n",
    "        count += 1\n",
    "        revenue += int(row[1])                 \n",
    "\n",
    "   \n",
    "    "
   ]
  },
  {
   "cell_type": "code",
   "execution_count": 454,
   "metadata": {
    "collapsed": true
   },
   "outputs": [],
   "source": [
    "row = 0\n",
    "revenue_list = []"
   ]
  },
  {
   "cell_type": "code",
   "execution_count": 455,
   "metadata": {},
   "outputs": [],
   "source": [
    "with open(filePath, newline=\"\") as csvfile:\n",
    "    csvreader = csv.reader(csvfile, delimiter=\",\")\n",
    "    next(csvreader)\n",
    "    for row in csvreader:\n",
    "        revenue_list.append(row[1])  \n",
    "        \n",
    "change = [int(revenue_list[n])-int(revenue_list[n-1]) for n in range(1,len(revenue_list))] \n",
    "avg_change = sum(change) / len(change)\n",
    "    \n"
   ]
  },
  {
   "cell_type": "code",
   "execution_count": 456,
   "metadata": {
    "collapsed": true
   },
   "outputs": [],
   "source": [
    "greatest_increase = max(change)\n",
    "greatest_decrease = min(change)"
   ]
  },
  {
   "cell_type": "code",
   "execution_count": 457,
   "metadata": {},
   "outputs": [
    {
     "name": "stdout",
     "output_type": "stream",
     "text": [
      "Number of months: 41\n",
      "Total revenue: 18971412\n",
      "The average change is: -6758.975\n",
      "The greatest increase is: 1837235\n",
      "The greatest decrease is: -1779747\n"
     ]
    }
   ],
   "source": [
    "print(\"Number of months: \" + str(count))\n",
    "print(\"Total revenue: \" + str(revenue))\n",
    "print(\"The average change is: \" + str(avg_change))\n",
    "print(\"The greatest increase is: \" + str(greatest_increase))\n",
    "print(\"The greatest decrease is: \" + str(greatest_decrease))"
   ]
  },
  {
   "cell_type": "code",
   "execution_count": 458,
   "metadata": {
    "collapsed": true
   },
   "outputs": [],
   "source": [
    "fileName = 'results.txt'"
   ]
  },
  {
   "cell_type": "code",
   "execution_count": 459,
   "metadata": {},
   "outputs": [],
   "source": [
    "with open(fileName, 'w') as f:\n",
    "    f.write(\"Number of months: \" + str(count))\n",
    "    f.write(\"Total revenue: \" + str(revenue))\n",
    "    f.write(\"The average change is: \" + str(avg_change))\n",
    "    f.write(\"The greatest increase is: \" + str(greatest_increase))\n",
    "    f.write(\"The greatest decrease is: \" + str(greatest_decrease))"
   ]
  },
  {
   "cell_type": "code",
   "execution_count": null,
   "metadata": {
    "collapsed": true
   },
   "outputs": [],
   "source": []
  }
 ],
 "metadata": {
  "kernelspec": {
   "display_name": "Python 3",
   "language": "python",
   "name": "python3"
  },
  "language_info": {
   "codemirror_mode": {
    "name": "ipython",
    "version": 3
   },
   "file_extension": ".py",
   "mimetype": "text/x-python",
   "name": "python",
   "nbconvert_exporter": "python",
   "pygments_lexer": "ipython3",
   "version": "3.6.1"
  }
 },
 "nbformat": 4,
 "nbformat_minor": 2
}
