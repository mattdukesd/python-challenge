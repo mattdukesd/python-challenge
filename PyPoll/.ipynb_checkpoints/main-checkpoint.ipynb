{
 "cells": [
  {
   "cell_type": "code",
   "execution_count": null,
   "metadata": {
    "collapsed": true
   },
   "outputs": [],
   "source": [
    "import csv"
   ]
  },
  {
   "cell_type": "code",
   "execution_count": null,
   "metadata": {
    "collapsed": true
   },
   "outputs": [],
   "source": [
    "csvfile = \"Data/election_data_2.csv\""
   ]
  },
  {
   "cell_type": "code",
   "execution_count": null,
   "metadata": {
    "collapsed": true
   },
   "outputs": [],
   "source": [
    "vote_count = 0\n",
    "candidate_list = []\n",
    "cand_votecount = {}"
   ]
  },
  {
   "cell_type": "code",
   "execution_count": null,
   "metadata": {
    "scrolled": true
   },
   "outputs": [],
   "source": [
    "with open(csvfile, \"r\") as poll_data:\n",
    "    csvreader = csv.DictReader(poll_data)\n",
    "    next(csvreader)\n",
    "    for row in csvreader:\n",
    "        vote_count += 1        \n",
    "        if row[\"Candidate\"] not in candidate_list:\n",
    "            candidate_list.append(row[\"Candidate\"])\n",
    "            cand_votecount[row[\"Candidate\"]] = 1\n",
    "        elif row[\"Candidate\"] in candidate_list:\n",
    "            cand_votecount[row[\"Candidate\"]] += 1\n",
    "            \n",
    "totals = vote_count\n",
    "results = cand_votecount\n",
    "   \n",
    "print(\"Total votes cast \" + str(totals))\n",
    "print(\"Voting results \" + str(results))\n",
    "\n",
    "    \n",
    "            "
   ]
  },
  {
   "cell_type": "code",
   "execution_count": null,
   "metadata": {
    "collapsed": true
   },
   "outputs": [],
   "source": [
    "fileName = 'election_results.txt'"
   ]
  },
  {
   "cell_type": "code",
   "execution_count": null,
   "metadata": {
    "collapsed": true
   },
   "outputs": [],
   "source": [
    "with open(fileName, 'w') as f:\n",
    "    f.write(\"Total votes cast \" + str(vote_count))\n",
    "    f.write(\"Voting results \" + str(cand_votecount))"
   ]
  },
  {
   "cell_type": "code",
   "execution_count": null,
   "metadata": {
    "collapsed": true
   },
   "outputs": [],
   "source": []
  },
  {
   "cell_type": "code",
   "execution_count": null,
   "metadata": {
    "collapsed": true
   },
   "outputs": [],
   "source": []
  }
 ],
 "metadata": {
  "kernelspec": {
   "display_name": "Python 3",
   "language": "python",
   "name": "python3"
  },
  "language_info": {
   "codemirror_mode": {
    "name": "ipython",
    "version": 3
   },
   "file_extension": ".py",
   "mimetype": "text/x-python",
   "name": "python",
   "nbconvert_exporter": "python",
   "pygments_lexer": "ipython3",
   "version": "3.6.1"
  }
 },
 "nbformat": 4,
 "nbformat_minor": 2
}
